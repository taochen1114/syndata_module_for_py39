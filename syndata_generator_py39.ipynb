{
 "cells": [
  {
   "cell_type": "markdown",
   "id": "fe98472e-683c-4ed8-8274-9c0518dbf4c2",
   "metadata": {},
   "source": [
    "# 合成資料生成模組 - python3.9 版本"
   ]
  },
  {
   "cell_type": "markdown",
   "id": "7b9a9a68-ccb2-4840-89f9-374baaad450a",
   "metadata": {},
   "source": [
    "## 環境建置\n",
    "Python 3.9.23\n",
    "\n",
    "1. 建立 virtualenv\n",
    "```\n",
    "python -m venv venv\n",
    "source venv/bin/activate\n",
    "```\n",
    "2. 安裝 core 套件（預先裝 wheel）\n",
    "```\n",
    "pip install --upgrade pip setuptools wheel\n",
    "# pip install -r requirements.txt\n",
    "pip install sdv==1.23.0\n",
    "pip install sdmetrics==0.21.0\n",
    "pip install pandas==2.3.0\n",
    "pip install numpy==2.0.2\n",
    "pip install scikit-learn==1.6.1\n",
    "pip install scipy==1.13.1\n",
    "pip install matplotlib==3.9.4\n",
    "```"
   ]
  },
  {
   "cell_type": "code",
   "execution_count": 9,
   "id": "0115c346-8276-4822-812f-ba6e5fee3c23",
   "metadata": {
    "tags": []
   },
   "outputs": [],
   "source": [
    "import pandas as pd\n",
    "import logging\n",
    "import time\n",
    "import os\n",
    "from sdv.metadata import SingleTableMetadata\n",
    "\n",
    "from sdv.single_table import GaussianCopulaSynthesizer, CTGANSynthesizer"
   ]
  },
  {
   "cell_type": "code",
   "execution_count": 10,
   "id": "6ece5cde-4357-4bd9-adf3-6e1bb72cba6c",
   "metadata": {},
   "outputs": [],
   "source": [
    "def get_data_from_model(model_path, num_rows=1000, condition_dict=None):\n",
    "    print(f\"Loading model from: {model_path}\")\n",
    "\n",
    "    if \"GaussianCopula\" in model_path:\n",
    "        model = GaussianCopulaSynthesizer.load(model_path)\n",
    "    elif \"CTGAN\" in model_path:\n",
    "        model = CTGANSynthesizer.load(model_path)\n",
    "    else:\n",
    "        raise ValueError(f\"Cannot determine model type from file name: {model_path}\")\n",
    "\n",
    "    if condition_dict:\n",
    "        print(f\"Sampling with conditions: {condition_dict}\")\n",
    "        return model.sample_conditions(conditions=condition_dict, num_rows=num_rows)\n",
    "    else:\n",
    "        return model.sample(num_rows=num_rows)"
   ]
  },
  {
   "cell_type": "code",
   "execution_count": 11,
   "id": "a0deffcd-2d3f-49e8-a71b-151afb54a931",
   "metadata": {},
   "outputs": [],
   "source": [
    "def data_sythesizer(args, input_df=pd.DataFrame()):\n",
    "    \"\"\"Synthesize input dataframe data and return synthetic output.\"\"\"\n",
    "\n",
    "    # === Step 1: 若有 primary key，先轉為 str 避免 regex 檢查錯誤 ===\n",
    "    pri_key = args.primary_key\n",
    "    if pri_key and pri_key in input_df.columns:\n",
    "        input_df[pri_key] = input_df[pri_key].astype(str)\n",
    "\n",
    "    # === Step 2: 建構 metadata ===\n",
    "    # metadata = Metadata.detect_from_dataframe(data=input_df)\n",
    "    metadata = SingleTableMetadata()\n",
    "    metadata.detect_from_dataframe(data=input_df)\n",
    "\n",
    "    if pri_key:\n",
    "        metadata.update_column(column_name=pri_key, sdtype=\"id\")\n",
    "        metadata.set_primary_key(pri_key)\n",
    "        logging.info(f\"Primary key '{pri_key}' set as sdtype='id'.\")\n",
    "\n",
    "    # === Step 3: Initialize model ===\n",
    "    if args.synth_model == \"GaussianCopula\":\n",
    "        print(\"Synthetic model arch: GaussianCopula\")\n",
    "        model = GaussianCopulaSynthesizer(metadata)\n",
    "    elif args.synth_model == \"CTGAN\":\n",
    "        if args.custom_setting:\n",
    "            print(\"Synthetic model arch: CTGAN (custom)\")\n",
    "            model = CTGANSynthesizer(\n",
    "                metadata=metadata,\n",
    "                epochs=args.epochs,\n",
    "                batch_size=args.batch_size,\n",
    "                generator_dim=tuple(args.gen_dim),\n",
    "                discriminator_dim=tuple(args.dis_dim),\n",
    "                verbose=True,\n",
    "            )\n",
    "        else:\n",
    "            logging.info(\"Synthetic model arch: CTGAN (default)\")\n",
    "            model = CTGANSynthesizer(metadata, verbose=True)\n",
    "    else:\n",
    "        raise ValueError(f\"Unsupported synth_model: {args.synth_model}\")\n",
    "\n",
    "    # === Step 4: Fit model ===\n",
    "    print(\"Fitting synthetic model ...\")\n",
    "    start_time = time.time()\n",
    "    model.fit(input_df)\n",
    "    print(f\"Training completed in {time.time() - start_time:.2f} seconds\")\n",
    "\n",
    "    # === Step 5: Sample data ===\n",
    "    output_df = model.sample(num_rows=args.num_rows)\n",
    "\n",
    "    # === Step 6: Save model if specified ===\n",
    "    if args.save_model:\n",
    "        print(\"=== save Syn. Model file ===\")\n",
    "        model_name = f\"syn_model_{args.synth_model}\"\n",
    "        if args.custom_setting:\n",
    "            model_name += \"-c\"\n",
    "        model_name += \".pkl\"\n",
    "\n",
    "        output_dir = os.path.dirname(args.output_fpath) if args.output_fpath else args.output_dir\n",
    "        os.makedirs(output_dir, exist_ok=True)\n",
    "        model_path = os.path.join(output_dir, model_name)\n",
    "\n",
    "        print(f\"Saving model to {model_path}\")\n",
    "        model.save(model_path)\n",
    "\n",
    "    # === Step 7: Save output CSV if specified ===\n",
    "    if args.save_output and args.output_fpath:\n",
    "        os.makedirs(os.path.dirname(args.output_fpath), exist_ok=True)\n",
    "        print(f\"Saving synthetic output to {args.output_fpath}\")\n",
    "        output_df.to_csv(args.output_fpath, index=False)\n",
    "\n",
    "    return output_df"
   ]
  },
  {
   "cell_type": "code",
   "execution_count": 12,
   "id": "e470f0e8-8388-4be2-b7ee-4d52c0c4187e",
   "metadata": {},
   "outputs": [],
   "source": [
    "def set_args(args_list=None):\n",
    "    \"\"\"Main Function\n",
    "    process input and do configs check\n",
    "    \"\"\"\n",
    "    import argparse\n",
    "\n",
    "    parser = argparse.ArgumentParser()\n",
    "    parser.add_argument(\"--input_path\", type=str, default=\"data/train.csv\")\n",
    "    parser.add_argument(\"--output_dir\", type=str, default=\"data/output/\")\n",
    "    parser.add_argument(\"--synth_model\", type=str, default=\"GaussianCopula\", help=\"sythetic model type\")\n",
    "    parser.add_argument(\"--primary_key\", type=str, default=\"\", help=\"primary key in your tabular data\")\n",
    "    parser.add_argument(\"--num_rows\", type=int, default=200, help=\"num rows of the output sythetic dataframe\")\n",
    "    parser.add_argument(\"--save_model\", action=\"store_true\", help=\"set for save model pkl file\")\n",
    "    parser.add_argument(\"--save_output\", action=\"store_true\", help=\"set for save output csv file\")\n",
    "    parser.add_argument(\"--save_report\", action=\"store_true\", help=\"set for save report csv and image files\")\n",
    "    \n",
    "    parser.add_argument(\"--custom_setting\", action=\"store_true\", help=\"set for custom setting in CTGAN and TVAE Model\")\n",
    "    parser.add_argument(\"--epochs\", type=int, default=300, help=\"set epochs for training CTGAN and TVAE Model\")\n",
    "    parser.add_argument(\"--batch_size\", type=int, default=500, help=\"set batch size for training CTGAN and TVAE Model\")\n",
    "    parser.add_argument(\"--gen_dim\", type=int, nargs=\"+\", default=[256, 256], help=\"set gen dimension\")\n",
    "    parser.add_argument(\"--dis_dim\", type=int, nargs=\"+\", default=[256, 256], help=\"set dis dimension\")\n",
    "    \n",
    "    parser.add_argument(\"--input_syn_model\", type=str, default=None, help=\"path to your syn_data model file\")\n",
    "    parser.add_argument(\"--sample_condition\", type=str, default=None, help=\"path to your syn_data sample condition json file\")\n",
    "    parser.add_argument(\"--output_fpath\", type=str, default=None, help=\"set full file path for your syn_data output csv\")\n",
    "\n",
    "    return parser.parse_args(args_list)"
   ]
  },
  {
   "cell_type": "code",
   "execution_count": 13,
   "id": "cd717889-07a0-4c66-a948-55808ec43ac8",
   "metadata": {},
   "outputs": [],
   "source": [
    "def main(args):\n",
    "    # logging.info(f\"contents of args.primary_key {args.primary_key}\")\n",
    "    # logging.info(f\"contents of args.custom_setting {args.custom_setting}\")\n",
    "    # logging.info(f\"contents of args.gen_dim {args.gen_dim}\")\n",
    "    # logging.info(f\"contents of args.dis_dim {args.dis_dim}\")\n",
    "    if not args.input_syn_model:\n",
    "        print(\"=== Train Synthetic Model and Generate Sample SynData csv ===\")\n",
    "        assert os.path.exists(args.input_path), f\"Can't find the input file at {args.input_path}.\"\n",
    "        assert os.path.exists(args.output_dir), f\"Can't find the output folder at {args.output_dir}.\"\n",
    "        assert args.synth_model in [\"GaussianCopula\", \"CTGAN\"]\n",
    "        # [\"GaussianCopula\", \"CTGAN\", \"CopulaGAN\", \"TVAE\"]\n",
    "\n",
    "        \n",
    "        input_path = args.input_path\n",
    "        output_dir = args.output_dir\n",
    "        # output_fname=args.output_fname\n",
    "\n",
    "        print(f\"input file path: {input_path}\")\n",
    "        print(f\"output directory: {output_dir}\")\n",
    "\n",
    "        input_df = pd.read_csv(input_path)\n",
    "        if args.primary_key:\n",
    "            assert args.primary_key in input_df.columns\n",
    "\n",
    "        # if \"Id\" in input_df.columns:\n",
    "        #     input_df = input_df.drop(columns=[\"Id\"])\n",
    "\n",
    "        output_df = data_sythesizer(args=args, input_df=input_df)\n",
    "\n",
    "        logging.info(\"output dataframe shape\")\n",
    "        logging.info(output_df.shape)\n",
    "        logging.info(\"output dataframe head(5)\")\n",
    "        logging.info(output_df.head())\n",
    "\n",
    "\n",
    "        if args.save_output:\n",
    "            print(\"=== save output csv file ===\")\n",
    "            \n",
    "            base = os.path.basename(input_path)\n",
    "            output_fname = (\n",
    "                os.path.splitext(base)[0] + \"_\" + args.synth_model + \"_output.csv\"\n",
    "            )\n",
    "            output_df.to_csv(os.path.join(output_dir, output_fname), index=False)\n",
    "            \n",
    "            print(f\"saved to {os.path.join(output_dir, output_fname)}\")\n",
    "\n",
    "    else:\n",
    "        print(\"=== Generate Synthetic Data from Syn. Model ===\")\n",
    "        model_path = args.input_syn_model\n",
    "        num_rows = args.num_rows\n",
    "        condition_fpath = args.sample_condition\n",
    "        output_fpath=args.output_fpath\n",
    "\n",
    "        print(f\"The Syn. Model Path: {model_path}\")\n",
    "        print(f\"Generate {num_rows} rows to {output_fpath}...\")\n",
    "        \n",
    "        assert os.path.exists(model_path), f\"Can't find the model_path pkl file: {model_path}.\"\n",
    "        if not condition_fpath:\n",
    "            output_df = get_data_from_model(model_path, num_rows=num_rows, condition_dict=None)\n",
    "        else:\n",
    "            assert os.path.exists(condition_fpath), f\"Can't find the sample_condition json file: {condition_fpath}.\"\n",
    "            assert condition_fpath[-5:] == \".json\", f\"{condition_fpath} must be a json file!\"\n",
    "            \n",
    "            with open(condition_fpath, \"r\") as f:\n",
    "                condition_dict = json.load(f)\n",
    "\n",
    "            output_df = get_data_from_model(model_path, num_rows=num_rows, condition_dict=condition_dict)\n",
    "\n",
    "        print(\"output dataframe shape\")\n",
    "        print(output_df.shape)\n",
    "        print(\"output dataframe head(5)\")\n",
    "        print(output_df.head())\n",
    "\n",
    "        if args.save_output:\n",
    "            print(f\"=== Save csv to {output_fpath} ===\")\n",
    "            output_df.to_csv(output_fpath, index=False)"
   ]
  },
  {
   "cell_type": "markdown",
   "id": "a53b9a68-9cde-41df-9f10-37ca6d26eff6",
   "metadata": {},
   "source": [
    "# 使用模組訓練合成資料模型 + 生成合成資料"
   ]
  },
  {
   "cell_type": "code",
   "execution_count": null,
   "id": "7031732c-6a25-4724-af80-80b95b1038af",
   "metadata": {},
   "outputs": [
    {
     "name": "stdout",
     "output_type": "stream",
     "text": [
      "=== Generate Synthetic Data from Syn. Model ===\n",
      "The Syn. Model Path: output/syn_model_GaussianCopula.pkl\n",
      "Generate 10000000 rows to output/syn_data.csv...\n",
      "Loading model from: output/syn_model_GaussianCopula.pkl\n"
     ]
    }
   ],
   "source": [
    "args = set_args([\n",
    "    \"--input_syn_model\", \"output/syn_model_GaussianCopula.pkl\", # 合成資料生成模型路徑 \n",
    "    \"--output_fpath\", \"output/syn_data.csv\",   # 合成資料輸出路徑\n",
    "    \"--num_rows\", \"10000000\",  # 生成的資料筆數\n",
    "    \"--save_output\"\n",
    "])\n",
    "\n",
    "start_time = time.time()\n",
    "main(args)\n",
    "time_cost = time.time() - start_time"
   ]
  },
  {
   "cell_type": "code",
   "execution_count": null,
   "id": "bf3625de-100b-4215-8b14-020e77c290a9",
   "metadata": {},
   "outputs": [],
   "source": [
    "print(f\"time_cost {time_cost}\")"
   ]
  },
  {
   "cell_type": "markdown",
   "id": "c1265fab-e208-46c8-9baa-236c0ec19a4a",
   "metadata": {},
   "source": [
    "## 檢視真實資料與合成資料表單"
   ]
  },
  {
   "cell_type": "code",
   "execution_count": null,
   "id": "16c948f2-e417-4192-b8c1-9ecc713bf503",
   "metadata": {},
   "outputs": [],
   "source": [
    "import pandas as pd\n",
    "\n",
    "real_data_df = pd.read_csv(\"input/data.csv\")  # 真實資料路徑\n",
    "syn_data_df = pd.read_csv(\"output/syn_data.csv\")  # 合成資料預設檔名為: 真實資料檔名 + \"_GaussianCopula_output\""
   ]
  },
  {
   "cell_type": "code",
   "execution_count": null,
   "id": "47de27b9-63dd-4d28-ba3b-da55a3e63c45",
   "metadata": {},
   "outputs": [],
   "source": [
    "real_data_df.head(10)"
   ]
  },
  {
   "cell_type": "code",
   "execution_count": null,
   "id": "91fc049e-b117-4269-8b6a-30b1252beaf2",
   "metadata": {},
   "outputs": [],
   "source": [
    "syn_data_df.head(10)"
   ]
  },
  {
   "cell_type": "code",
   "execution_count": null,
   "id": "0c92b8bd-cd7e-41c5-aa09-ba07df3f62e0",
   "metadata": {},
   "outputs": [],
   "source": []
  },
  {
   "cell_type": "code",
   "execution_count": null,
   "id": "312607cb-1676-412d-96f9-9e05f0437ca8",
   "metadata": {},
   "outputs": [],
   "source": []
  }
 ],
 "metadata": {
  "kernelspec": {
   "display_name": "Python 3 (ipykernel)",
   "language": "python",
   "name": "python3"
  },
  "language_info": {
   "codemirror_mode": {
    "name": "ipython",
    "version": 3
   },
   "file_extension": ".py",
   "mimetype": "text/x-python",
   "name": "python",
   "nbconvert_exporter": "python",
   "pygments_lexer": "ipython3",
   "version": "3.9.23"
  }
 },
 "nbformat": 4,
 "nbformat_minor": 5
}
