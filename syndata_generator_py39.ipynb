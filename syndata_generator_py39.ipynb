{
 "cells": [
  {
   "cell_type": "markdown",
   "id": "fe98472e-683c-4ed8-8274-9c0518dbf4c2",
   "metadata": {},
   "source": [
    "# 合成資料生成模組 - python3.9 版本"
   ]
  },
  {
   "cell_type": "markdown",
   "id": "7b9a9a68-ccb2-4840-89f9-374baaad450a",
   "metadata": {},
   "source": [
    "## 環境建置\n",
    "Python 3.9.23\n",
    "\n",
    "1. 建立 virtualenv\n",
    "```\n",
    "python -m venv venv\n",
    "source venv/bin/activate\n",
    "```\n",
    "2. 安裝 core 套件（預先裝 wheel）\n",
    "```\n",
    "pip install --upgrade pip setuptools wheel\n",
    "# pip install -r requirements.txt\n",
    "pip install sdv==1.23.0\n",
    "pip install sdmetrics==0.21.0\n",
    "pip install pandas==2.3.0\n",
    "pip install numpy==2.0.2\n",
    "pip install scikit-learn==1.6.1\n",
    "pip install scipy==1.13.1\n",
    "pip install matplotlib==3.9.4\n",
    "```"
   ]
  },
  {
   "cell_type": "code",
   "execution_count": 6,
   "id": "0115c346-8276-4822-812f-ba6e5fee3c23",
   "metadata": {
    "tags": []
   },
   "outputs": [],
   "source": [
    "import pandas as pd\n",
    "import logging\n",
    "import time\n",
    "import os\n",
    "from sdv.metadata import SingleTableMetadata\n",
    "\n",
    "from sdv.single_table import GaussianCopulaSynthesizer, CTGANSynthesizer"
   ]
  },
  {
   "cell_type": "code",
   "execution_count": 7,
   "id": "6ece5cde-4357-4bd9-adf3-6e1bb72cba6c",
   "metadata": {},
   "outputs": [],
   "source": [
    "def get_data_from_model(\n",
    "    model_path,\n",
    "    num_rows=1000,\n",
    "    condition_dict=None,\n",
    "    use_chunk=False,\n",
    "    chunk_size=10,\n",
    "    output_path=None\n",
    "):\n",
    "    print(f\"Loading model from: {model_path}\")\n",
    "\n",
    "    # === 載入模型 ===\n",
    "    if \"GaussianCopula\" in model_path:\n",
    "        model = GaussianCopulaSynthesizer.load(model_path)\n",
    "    elif \"CTGAN\" in model_path:\n",
    "        model = CTGANSynthesizer.load(model_path)\n",
    "    else:\n",
    "        raise ValueError(f\"Cannot determine model type from file name: {model_path}\")\n",
    "\n",
    "    # === 條件抽樣時，不支援 chunk ===\n",
    "    if condition_dict:\n",
    "        print(f\"Sampling with conditions: {condition_dict}\")\n",
    "        return model.sample_conditions(conditions=condition_dict, num_rows=num_rows)\n",
    "\n",
    "    # === Chunk 模式 ===    \n",
    "    if use_chunk:\n",
    "        assert output_path, \"Chunk mode requires specifying output_path to save CSV.\"\n",
    "\n",
    "        print(f\"Sampling in chunks: total={num_rows}, chunk_size={chunk_size}\")\n",
    "        for i in range(0, num_rows, chunk_size):\n",
    "            batch_size = min(chunk_size, num_rows - i)\n",
    "            print(f\" → Generating rows {i} ~ {i + batch_size}\")\n",
    "\n",
    "            chunk_df = model.sample(num_rows=batch_size)\n",
    "            mode = 'w' if i == 0 else 'a'\n",
    "            header = i == 0\n",
    "            chunk_df.to_csv(output_path, index=False, mode=mode, header=header)\n",
    "\n",
    "            del chunk_df  # 明確釋放記憶體\n",
    "\n",
    "        print(f\"✅ Finished sampling {num_rows} rows to: {output_path}\")\n",
    "        return None  # 若用 chunk 模式，不回傳整個 DataFrame\n",
    "\n",
    "    # === 一次性抽樣 ===\n",
    "    return model.sample(num_rows=num_rows)\n"
   ]
  },
  {
   "cell_type": "code",
   "execution_count": 8,
   "id": "e470f0e8-8388-4be2-b7ee-4d52c0c4187e",
   "metadata": {},
   "outputs": [],
   "source": [
    "def set_args(args_list=None):\n",
    "    \"\"\"\n",
    "    process input and do configs check\n",
    "    \"\"\"\n",
    "    import argparse\n",
    "\n",
    "    parser = argparse.ArgumentParser()\n",
    "\n",
    "    parser.add_argument(\"--synth_model\", type=str, default=\"GaussianCopula\", help=\"sythetic model type\")\n",
    "    parser.add_argument(\"--primary_key\", type=str, default=\"\", help=\"primary key in your tabular data\")\n",
    "    parser.add_argument(\"--save_model\", action=\"store_true\", help=\"set for save model pkl file\")\n",
    "    parser.add_argument(\"--save_output\", action=\"store_true\", help=\"set for save output csv file\")\n",
    "    parser.add_argument(\"--save_report\", action=\"store_true\", help=\"set for save report csv and image files\")\n",
    "\n",
    "    parser.add_argument(\"--input_syn_model\", type=str, default=None, help=\"path to your syn_data model file\")\n",
    "    parser.add_argument(\"--num_rows\", type=int, default=200, help=\"num rows of the output sythetic dataframe\")\n",
    "    parser.add_argument(\"--output_fpath\", type=str, default=None, help=\"set full file path for your syn_data output csv\")\n",
    "    parser.add_argument(\"--chunk_size\", type=int, default=0, help=\"chunk_size for sythetic data generator\")\n",
    "    parser.add_argument(\"--use_chunk\", action=\"store_true\", help=\"set for use chunk mode to generate synthetic data\")\n",
    "\n",
    "    return parser.parse_args(args_list)"
   ]
  },
  {
   "cell_type": "code",
   "execution_count": 9,
   "id": "cd717889-07a0-4c66-a948-55808ec43ac8",
   "metadata": {},
   "outputs": [],
   "source": [
    "def main(args):\n",
    "\n",
    "    print(\"=== Generate Synthetic Data from Syn. Model ===\")\n",
    "    model_path = args.input_syn_model\n",
    "    num_rows = args.num_rows\n",
    "    output_fpath=args.output_fpath\n",
    "    chunk_size = args.chunk_size\n",
    "\n",
    "    print(f\"The Syn. Model Path: {model_path}\")\n",
    "    print(f\"Generate {num_rows} rows to {output_fpath}...\")\n",
    "    \n",
    "    assert os.path.exists(model_path), f\"Can't find the model_path pkl file: {model_path}.\"\n",
    "    if args.use_chunk:\n",
    "        print(f\"=== use chunk mode size: {args.chunk_size} ===\")\n",
    "\n",
    "        get_data_from_model(\n",
    "                model_path,\n",
    "                num_rows = num_rows,\n",
    "                use_chunk=True,\n",
    "                chunk_size=chunk_size,\n",
    "                output_path=output_fpath\n",
    "            )\n",
    "    else:\n",
    "        output_df = get_data_from_model(model_path, num_rows=num_rows)\n",
    "        print(\"output dataframe shape\")\n",
    "        print(output_df.shape)\n",
    "        print(\"output dataframe head(5)\")\n",
    "        print(output_df.head())\n",
    "\n",
    "        if args.save_output:\n",
    "            print(f\"=== Save csv to {output_fpath} ===\")\n",
    "            output_df.to_csv(output_fpath, index=False)\n"
   ]
  },
  {
   "cell_type": "markdown",
   "id": "a53b9a68-9cde-41df-9f10-37ca6d26eff6",
   "metadata": {},
   "source": [
    "# 使用模型生成合成資料"
   ]
  },
  {
   "cell_type": "markdown",
   "id": "af0f7a5b-8f9d-47be-82b3-834c30c40241",
   "metadata": {},
   "source": [
    "### 一般生成模式：當生成的資料筆數在 1M 之內使用"
   ]
  },
  {
   "cell_type": "code",
   "execution_count": 5,
   "id": "7031732c-6a25-4724-af80-80b95b1038af",
   "metadata": {},
   "outputs": [
    {
     "name": "stdout",
     "output_type": "stream",
     "text": [
      "=== Generate Synthetic Data from Syn. Model ===\n",
      "The Syn. Model Path: output/syn_model_GaussianCopula.pkl\n",
      "Generate 10000 rows to output/syn_data_10K.csv...\n",
      "Loading model from: output/syn_model_GaussianCopula.pkl\n",
      "output dataframe shape\n",
      "(10000, 81)\n",
      "output dataframe head(5)\n",
      "              Id  MSSubClass MSZoning  LotFrontage  LotArea Street Alley  \\\n",
      "0  sdv-id-GZCyfr          48       RL         82.0    10489   Pave   NaN   \n",
      "1  sdv-id-PcjWgv          86       RL         50.0     5545   Pave   NaN   \n",
      "2  sdv-id-SfwDTL          32       RL         77.0    14440   Pave   NaN   \n",
      "3  sdv-id-dVJhsp         138       RL         73.0    11653   Pave   NaN   \n",
      "4  sdv-id-KzRwOB         128       RL         68.0     8953   Pave   NaN   \n",
      "\n",
      "  LotShape LandContour Utilities  ... PoolArea PoolQC  Fence MiscFeature  \\\n",
      "0      Reg         Lvl    AllPub  ...        0    NaN  MnPrv         NaN   \n",
      "1      IR1         Lvl    AllPub  ...        0    NaN    NaN         NaN   \n",
      "2      Reg         Lvl    AllPub  ...        0    NaN    NaN         NaN   \n",
      "3      Reg         Lvl    AllPub  ...        0    NaN  MnPrv         NaN   \n",
      "4      Reg         Lvl    AllPub  ...        0    NaN  MnPrv         NaN   \n",
      "\n",
      "  MiscVal MoSold YrSold  SaleType  SaleCondition  SalePrice  \n",
      "0       6      8   2006        WD         Normal     144771  \n",
      "1    7140      1   2007        WD         Normal     105516  \n",
      "2    7938      2   2007        WD         Normal     247214  \n",
      "3    2636     11   2008        WD         Normal      86923  \n",
      "4     533      8   2010       New         Normal     317192  \n",
      "\n",
      "[5 rows x 81 columns]\n",
      "=== Save csv to output/syn_data_10K.csv ===\n",
      "time_cost 2.356778621673584\n"
     ]
    }
   ],
   "source": [
    "args = set_args([\n",
    "    \"--input_syn_model\", \"output/syn_model_GaussianCopula.pkl\", # 合成資料生成模型路徑 \n",
    "    \"--output_fpath\", \"output/syn_data_10K.csv\",   # 合成資料輸出路徑\n",
    "    \"--num_rows\", \"10000\",  # 生成的資料筆數\n",
    "    \"--save_output\"\n",
    "])\n",
    "\n",
    "start_time = time.time()\n",
    "main(args)\n",
    "time_cost = time.time() - start_time\n",
    "print(f\"time_cost {time_cost}\")"
   ]
  },
  {
   "cell_type": "markdown",
   "id": "d8affa64-234d-4add-a9b8-dbf16afefac6",
   "metadata": {},
   "source": [
    "### 分批 chunk 生成模式：當生成的資料筆數在 1M 以上時容易 OOM 建議使用"
   ]
  },
  {
   "cell_type": "code",
   "execution_count": 10,
   "id": "54f1949c-e389-403c-a329-8ea766de5db7",
   "metadata": {},
   "outputs": [
    {
     "name": "stdout",
     "output_type": "stream",
     "text": [
      "=== Generate Synthetic Data from Syn. Model ===\n",
      "The Syn. Model Path: output/syn_model_GaussianCopula.pkl\n",
      "Generate 2000000 rows to output/syn_data_2M.csv...\n",
      "=== use chunk mode size: 500000 ===\n",
      "Loading model from: output/syn_model_GaussianCopula.pkl\n",
      "Sampling in chunks: total=2000000, chunk_size=500000\n",
      " → Generating rows 0 ~ 500000\n",
      " → Generating rows 500000 ~ 1000000\n",
      " → Generating rows 1000000 ~ 1500000\n",
      " → Generating rows 1500000 ~ 2000000\n",
      "✅ Finished sampling 2000000 rows to: output/syn_data_2M.csv\n",
      "time_cost 444.5106897354126\n"
     ]
    }
   ],
   "source": [
    "args = set_args([\n",
    "    \"--input_syn_model\", \"output/syn_model_GaussianCopula.pkl\", # 合成資料生成模型路徑 \n",
    "    \"--output_fpath\", \"output/syn_data_2M.csv\",   # 合成資料輸出路徑\n",
    "    \"--num_rows\", \"2000000\",  # 生成的資料筆數\n",
    "    \"--save_output\",\n",
    "    \"--use_chunk\",\n",
    "    \"--chunk_size\", \"500000\"\n",
    "])\n",
    "\n",
    "start_time = time.time()\n",
    "main(args)\n",
    "time_cost = time.time() - start_time\n",
    "print(f\"time_cost {time_cost}\")"
   ]
  },
  {
   "cell_type": "markdown",
   "id": "c1265fab-e208-46c8-9baa-236c0ec19a4a",
   "metadata": {},
   "source": [
    "## 檢視真實資料與合成資料表單"
   ]
  },
  {
   "cell_type": "code",
   "execution_count": null,
   "id": "16c948f2-e417-4192-b8c1-9ecc713bf503",
   "metadata": {},
   "outputs": [],
   "source": [
    "import pandas as pd\n",
    "\n",
    "real_data_df = pd.read_csv(\"input/data.csv\")  # 真實資料路徑\n",
    "syn_data_df = pd.read_csv(\"output/syn_data.csv\")  # 合成資料預設檔名為: 真實資料檔名 + \"_GaussianCopula_output\""
   ]
  },
  {
   "cell_type": "code",
   "execution_count": null,
   "id": "47de27b9-63dd-4d28-ba3b-da55a3e63c45",
   "metadata": {},
   "outputs": [],
   "source": [
    "real_data_df.head(10)"
   ]
  },
  {
   "cell_type": "code",
   "execution_count": null,
   "id": "91fc049e-b117-4269-8b6a-30b1252beaf2",
   "metadata": {},
   "outputs": [],
   "source": [
    "syn_data_df.head(10)"
   ]
  },
  {
   "cell_type": "code",
   "execution_count": null,
   "id": "0c92b8bd-cd7e-41c5-aa09-ba07df3f62e0",
   "metadata": {},
   "outputs": [],
   "source": []
  },
  {
   "cell_type": "code",
   "execution_count": null,
   "id": "312607cb-1676-412d-96f9-9e05f0437ca8",
   "metadata": {},
   "outputs": [],
   "source": []
  }
 ],
 "metadata": {
  "kernelspec": {
   "display_name": "Python 3 (ipykernel)",
   "language": "python",
   "name": "python3"
  },
  "language_info": {
   "codemirror_mode": {
    "name": "ipython",
    "version": 3
   },
   "file_extension": ".py",
   "mimetype": "text/x-python",
   "name": "python",
   "nbconvert_exporter": "python",
   "pygments_lexer": "ipython3",
   "version": "3.9.23"
  }
 },
 "nbformat": 4,
 "nbformat_minor": 5
}
